{
 "cells": [
  {
   "cell_type": "markdown",
   "id": "32ab1569",
   "metadata": {},
   "source": [
    "<Center>\n",
    "<h4>FUNDAÇÃO DE ASSISTÊNCIA E EDUCAÇÃO</h4>\n",
    "<h4>CENTRO UNIVERSITÁRIO ESPÍRITO-SANTENSE</h4>\n",
    "<h2>ANÁLISE DE SENTIMENTOS APLICADA À EXTRAÇÃO DE FEEDBACKS EM COMENTÁRIOS NAS REDES SOCIAIS</h2>\n",
    "\n",
    "<h4>LORENZO SALVIATO VESCOVI</h4>\n",
    "<h4>VINICIUS ROSSMANN NUNES</h4>\n",
    "\n",
    "<h4>Orientado por: Otávio Lube dos Santos</h4>\n",
    "    \n",
    "<h4>VITÓRIA- 2023</h4>\n",
    "\n",
    "</Center>"
   ]
  },
  {
   "cell_type": "markdown",
   "id": "5b427eea",
   "metadata": {},
   "source": [
    "### Introdução"
   ]
  },
  {
   "cell_type": "markdown",
   "id": "9ebae0f3",
   "metadata": {},
   "source": [
    "Esse protótipo busca treinar, avaliar e testar modelos de classificação de textos em sentimentos (positivo e negativo).<br>\n",
    "Para realizar o treino e validação, foi utilizado um conjunto de dados abertos de avaliações de produtos, o <b>B2W-Reviews01</b>, que contém mais de 130 mil avaliações de clientes de comércio eletrônico, coletadas do site Americanas.com entre janeiro e maio de 2018."
   ]
  },
  {
   "cell_type": "markdown",
   "id": "ed7ae161",
   "metadata": {},
   "source": [
    "### Preparando o conjunto de dados"
   ]
  },
  {
   "cell_type": "markdown",
   "id": "3f14594d",
   "metadata": {},
   "source": [
    "Importando a base de dados"
   ]
  },
  {
   "cell_type": "code",
   "execution_count": 1,
   "id": "26f62e17",
   "metadata": {},
   "outputs": [
    {
     "data": {
      "text/plain": [
       "Index(['submission_date', 'reviewer_id', 'product_id', 'product_name',\n",
       "       'product_brand', 'site_category_lv1', 'site_category_lv2',\n",
       "       'review_title', 'overall_rating', 'recommend_to_a_friend',\n",
       "       'review_text', 'reviewer_birth_year', 'reviewer_gender',\n",
       "       'reviewer_state'],\n",
       "      dtype='object')"
      ]
     },
     "execution_count": 1,
     "metadata": {},
     "output_type": "execute_result"
    }
   ],
   "source": [
    "import pandas as pd\n",
    "b2wReviews1 = pd.read_csv('./datasets/B2W-Reviews01.csv', dtype={\"product_id\": str, \"review_text\": str})\n",
    "b2wReviews1.columns"
   ]
  },
  {
   "cell_type": "markdown",
   "id": "d4cbd591",
   "metadata": {},
   "source": [
    "Para os objetivos desse trabalho, alguns campos como \"Data de submissão\", \"Codigo do produto\" e \"Gênero do avaliador\" não serão utilizados, e portanto vamos remove-los:"
   ]
  },
  {
   "cell_type": "code",
   "execution_count": 2,
   "id": "585eb941",
   "metadata": {},
   "outputs": [
    {
     "data": {
      "text/html": [
       "<div>\n",
       "<style scoped>\n",
       "    .dataframe tbody tr th:only-of-type {\n",
       "        vertical-align: middle;\n",
       "    }\n",
       "\n",
       "    .dataframe tbody tr th {\n",
       "        vertical-align: top;\n",
       "    }\n",
       "\n",
       "    .dataframe thead th {\n",
       "        text-align: right;\n",
       "    }\n",
       "</style>\n",
       "<table border=\"1\" class=\"dataframe\">\n",
       "  <thead>\n",
       "    <tr style=\"text-align: right;\">\n",
       "      <th></th>\n",
       "      <th>product_name</th>\n",
       "      <th>site_category_lv2</th>\n",
       "      <th>review_title</th>\n",
       "      <th>overall_rating</th>\n",
       "      <th>recommend_to_a_friend</th>\n",
       "      <th>review_text</th>\n",
       "    </tr>\n",
       "  </thead>\n",
       "  <tbody>\n",
       "    <tr>\n",
       "      <th>0</th>\n",
       "      <td>Notebook Asus Vivobook Max X541NA-GO472T Intel...</td>\n",
       "      <td>Notebook</td>\n",
       "      <td>Bom</td>\n",
       "      <td>4</td>\n",
       "      <td>Yes</td>\n",
       "      <td>Estou contente com a compra entrega rápida o ú...</td>\n",
       "    </tr>\n",
       "    <tr>\n",
       "      <th>1</th>\n",
       "      <td>Copo Acrílico Com Canudo 500ml Rocie</td>\n",
       "      <td>Copos, Taças e Canecas</td>\n",
       "      <td>Preço imbatível, ótima qualidade</td>\n",
       "      <td>4</td>\n",
       "      <td>Yes</td>\n",
       "      <td>Por apenas R$1994.20,eu consegui comprar esse ...</td>\n",
       "    </tr>\n",
       "    <tr>\n",
       "      <th>2</th>\n",
       "      <td>Panela de Pressão Elétrica Philips Walita Dail...</td>\n",
       "      <td>Panela Elétrica</td>\n",
       "      <td>ATENDE TODAS AS EXPECTATIVA.</td>\n",
       "      <td>4</td>\n",
       "      <td>Yes</td>\n",
       "      <td>SUPERA EM AGILIDADE E PRATICIDADE OUTRAS PANEL...</td>\n",
       "    </tr>\n",
       "    <tr>\n",
       "      <th>3</th>\n",
       "      <td>Betoneira Columbus - Roma Brinquedos</td>\n",
       "      <td>Veículos de Brinquedo</td>\n",
       "      <td>presente mais que desejado</td>\n",
       "      <td>4</td>\n",
       "      <td>Yes</td>\n",
       "      <td>MEU FILHO AMOU! PARECE DE VERDADE COM TANTOS D...</td>\n",
       "    </tr>\n",
       "    <tr>\n",
       "      <th>4</th>\n",
       "      <td>Smart TV LED 43\" LG 43UJ6525 Ultra HD 4K com C...</td>\n",
       "      <td>TV</td>\n",
       "      <td>Sem duvidas, excelente</td>\n",
       "      <td>5</td>\n",
       "      <td>Yes</td>\n",
       "      <td>A entrega foi no prazo, as americanas estão de...</td>\n",
       "    </tr>\n",
       "  </tbody>\n",
       "</table>\n",
       "</div>"
      ],
      "text/plain": [
       "                                        product_name       site_category_lv2  \\\n",
       "0  Notebook Asus Vivobook Max X541NA-GO472T Intel...                Notebook   \n",
       "1               Copo Acrílico Com Canudo 500ml Rocie  Copos, Taças e Canecas   \n",
       "2  Panela de Pressão Elétrica Philips Walita Dail...         Panela Elétrica   \n",
       "3               Betoneira Columbus - Roma Brinquedos   Veículos de Brinquedo   \n",
       "4  Smart TV LED 43\" LG 43UJ6525 Ultra HD 4K com C...                      TV   \n",
       "\n",
       "                       review_title  overall_rating recommend_to_a_friend  \\\n",
       "0                               Bom               4                   Yes   \n",
       "1  Preço imbatível, ótima qualidade               4                   Yes   \n",
       "2      ATENDE TODAS AS EXPECTATIVA.               4                   Yes   \n",
       "3        presente mais que desejado               4                   Yes   \n",
       "4            Sem duvidas, excelente               5                   Yes   \n",
       "\n",
       "                                         review_text  \n",
       "0  Estou contente com a compra entrega rápida o ú...  \n",
       "1  Por apenas R$1994.20,eu consegui comprar esse ...  \n",
       "2  SUPERA EM AGILIDADE E PRATICIDADE OUTRAS PANEL...  \n",
       "3  MEU FILHO AMOU! PARECE DE VERDADE COM TANTOS D...  \n",
       "4  A entrega foi no prazo, as americanas estão de...  "
      ]
     },
     "execution_count": 2,
     "metadata": {},
     "output_type": "execute_result"
    }
   ],
   "source": [
    "b2wReviews1.drop(\n",
    "    columns = [\n",
    "        \"submission_date\",\n",
    "        \"reviewer_id\", \n",
    "        \"product_id\",\n",
    "        \"product_brand\",\n",
    "        \"site_category_lv1\",\n",
    "        \"reviewer_birth_year\",\n",
    "        \"reviewer_gender\",\n",
    "        \"reviewer_state\"\n",
    "    ],\n",
    "    inplace = True\n",
    ")\n",
    "b2wReviews1.head()"
   ]
  },
  {
   "cell_type": "markdown",
   "id": "dea2ceb7",
   "metadata": {},
   "source": [
    "As colunas \"overall_rating\" e \"review_text\" são críticas, vamos examinar as linhas que tem esses campos nulos:"
   ]
  },
  {
   "cell_type": "code",
   "execution_count": 3,
   "id": "43d4b9a5",
   "metadata": {},
   "outputs": [
    {
     "data": {
      "text/plain": [
       "3275"
      ]
     },
     "execution_count": 3,
     "metadata": {},
     "output_type": "execute_result"
    }
   ],
   "source": [
    "b2wReviews1[b2wReviews1.review_text.isna() | b2wReviews1.review_text.isna()].shape[0]"
   ]
  },
  {
   "cell_type": "markdown",
   "id": "bcb6ae38",
   "metadata": {},
   "source": [
    "Existem 3275 linhas com esses campos nulos, vamos excluir esses registros:"
   ]
  },
  {
   "cell_type": "code",
   "execution_count": 4,
   "id": "3812d611",
   "metadata": {},
   "outputs": [
    {
     "data": {
      "text/plain": [
       "0"
      ]
     },
     "execution_count": 4,
     "metadata": {},
     "output_type": "execute_result"
    }
   ],
   "source": [
    "b2wReviews1 = b2wReviews1.dropna(subset=[\"review_text\", \"overall_rating\"])\n",
    "b2wReviews1[b2wReviews1.review_text.isna() | b2wReviews1.review_text.isna()].shape[0]"
   ]
  },
  {
   "cell_type": "markdown",
   "id": "438e06a8",
   "metadata": {},
   "source": [
    "Em nossa classificação, vamos ignorar as notas \"neutras\" com valor 3, vamos considerar notas maiores que 3 como \"positivas\" e as demais como \"negativas\":"
   ]
  },
  {
   "cell_type": "code",
   "execution_count": 8,
   "id": "3dd84342",
   "metadata": {},
   "outputs": [
    {
     "data": {
      "text/html": [
       "<div>\n",
       "<style scoped>\n",
       "    .dataframe tbody tr th:only-of-type {\n",
       "        vertical-align: middle;\n",
       "    }\n",
       "\n",
       "    .dataframe tbody tr th {\n",
       "        vertical-align: top;\n",
       "    }\n",
       "\n",
       "    .dataframe thead th {\n",
       "        text-align: right;\n",
       "    }\n",
       "</style>\n",
       "<table border=\"1\" class=\"dataframe\">\n",
       "  <thead>\n",
       "    <tr style=\"text-align: right;\">\n",
       "      <th></th>\n",
       "      <th>product_name</th>\n",
       "      <th>site_category_lv2</th>\n",
       "      <th>review_title</th>\n",
       "      <th>overall_rating</th>\n",
       "      <th>recommend_to_a_friend</th>\n",
       "      <th>review_text</th>\n",
       "      <th>polarity</th>\n",
       "    </tr>\n",
       "  </thead>\n",
       "  <tbody>\n",
       "    <tr>\n",
       "      <th>0</th>\n",
       "      <td>Notebook Asus Vivobook Max X541NA-GO472T Intel...</td>\n",
       "      <td>Notebook</td>\n",
       "      <td>Bom</td>\n",
       "      <td>4</td>\n",
       "      <td>Yes</td>\n",
       "      <td>Estou contente com a compra entrega rápida o ú...</td>\n",
       "      <td>positive</td>\n",
       "    </tr>\n",
       "    <tr>\n",
       "      <th>1</th>\n",
       "      <td>Copo Acrílico Com Canudo 500ml Rocie</td>\n",
       "      <td>Copos, Taças e Canecas</td>\n",
       "      <td>Preço imbatível, ótima qualidade</td>\n",
       "      <td>4</td>\n",
       "      <td>Yes</td>\n",
       "      <td>Por apenas R$1994.20,eu consegui comprar esse ...</td>\n",
       "      <td>positive</td>\n",
       "    </tr>\n",
       "    <tr>\n",
       "      <th>2</th>\n",
       "      <td>Panela de Pressão Elétrica Philips Walita Dail...</td>\n",
       "      <td>Panela Elétrica</td>\n",
       "      <td>ATENDE TODAS AS EXPECTATIVA.</td>\n",
       "      <td>4</td>\n",
       "      <td>Yes</td>\n",
       "      <td>SUPERA EM AGILIDADE E PRATICIDADE OUTRAS PANEL...</td>\n",
       "      <td>positive</td>\n",
       "    </tr>\n",
       "    <tr>\n",
       "      <th>3</th>\n",
       "      <td>Betoneira Columbus - Roma Brinquedos</td>\n",
       "      <td>Veículos de Brinquedo</td>\n",
       "      <td>presente mais que desejado</td>\n",
       "      <td>4</td>\n",
       "      <td>Yes</td>\n",
       "      <td>MEU FILHO AMOU! PARECE DE VERDADE COM TANTOS D...</td>\n",
       "      <td>positive</td>\n",
       "    </tr>\n",
       "    <tr>\n",
       "      <th>4</th>\n",
       "      <td>Smart TV LED 43\" LG 43UJ6525 Ultra HD 4K com C...</td>\n",
       "      <td>TV</td>\n",
       "      <td>Sem duvidas, excelente</td>\n",
       "      <td>5</td>\n",
       "      <td>Yes</td>\n",
       "      <td>A entrega foi no prazo, as americanas estão de...</td>\n",
       "      <td>positive</td>\n",
       "    </tr>\n",
       "  </tbody>\n",
       "</table>\n",
       "</div>"
      ],
      "text/plain": [
       "                                        product_name       site_category_lv2  \\\n",
       "0  Notebook Asus Vivobook Max X541NA-GO472T Intel...                Notebook   \n",
       "1               Copo Acrílico Com Canudo 500ml Rocie  Copos, Taças e Canecas   \n",
       "2  Panela de Pressão Elétrica Philips Walita Dail...         Panela Elétrica   \n",
       "3               Betoneira Columbus - Roma Brinquedos   Veículos de Brinquedo   \n",
       "4  Smart TV LED 43\" LG 43UJ6525 Ultra HD 4K com C...                      TV   \n",
       "\n",
       "                       review_title  overall_rating recommend_to_a_friend  \\\n",
       "0                               Bom               4                   Yes   \n",
       "1  Preço imbatível, ótima qualidade               4                   Yes   \n",
       "2      ATENDE TODAS AS EXPECTATIVA.               4                   Yes   \n",
       "3        presente mais que desejado               4                   Yes   \n",
       "4            Sem duvidas, excelente               5                   Yes   \n",
       "\n",
       "                                         review_text  polarity  \n",
       "0  Estou contente com a compra entrega rápida o ú...  positive  \n",
       "1  Por apenas R$1994.20,eu consegui comprar esse ...  positive  \n",
       "2  SUPERA EM AGILIDADE E PRATICIDADE OUTRAS PANEL...  positive  \n",
       "3  MEU FILHO AMOU! PARECE DE VERDADE COM TANTOS D...  positive  \n",
       "4  A entrega foi no prazo, as americanas estão de...  positive  "
      ]
     },
     "execution_count": 8,
     "metadata": {},
     "output_type": "execute_result"
    }
   ],
   "source": [
    "b2wReviews1 = b2wReviews1[b2wReviews1['overall_rating'] != 3]\n",
    "b2wReviews1['polarity'] = b2wReviews1['overall_rating'].apply(lambda x: 'positive' if x > 3 else 'negative')\n",
    "b2wReviews1.head()"
   ]
  },
  {
   "cell_type": "markdown",
   "id": "0400940b",
   "metadata": {},
   "source": [
    "Agora vamos avaliar a quantidade de avaliações em cada polaridade:"
   ]
  },
  {
   "cell_type": "code",
   "execution_count": 9,
   "id": "3e6a8b58",
   "metadata": {},
   "outputs": [
    {
     "data": {
      "text/plain": [
       "positive    79316\n",
       "negative    33772\n",
       "Name: polarity, dtype: int64"
      ]
     },
     "execution_count": 9,
     "metadata": {},
     "output_type": "execute_result"
    }
   ],
   "source": [
    "b2wReviews1.polarity.value_counts()"
   ]
  },
  {
   "cell_type": "markdown",
   "id": "f1c595e1",
   "metadata": {},
   "source": [
    "Podemos observar que existe uma quantidade maior de avaliações positivas.<br>\n",
    "Nesse caso é importante equalizar a quantidade de dados de treinamento em cada polaridade (positiva e negativa), para evitar viés nos modelos de classificação, garantindo que o modelo não se torne tendencioso para a classe majoritária.<br><br>\n",
    "Para isso, vamos utilizar a técnica conhecida como <b>undersampling</b>,que consiste em manter todos os dados da classe com menor frequência e diminuir a quantidade dos que estão na classe de maior frequência:"
   ]
  },
  {
   "cell_type": "code",
   "execution_count": 10,
   "id": "43a307fa",
   "metadata": {},
   "outputs": [
    {
     "data": {
      "text/plain": [
       "positive    33772\n",
       "negative    33772\n",
       "Name: polarity, dtype: int64"
      ]
     },
     "execution_count": 10,
     "metadata": {},
     "output_type": "execute_result"
    }
   ],
   "source": [
    "positive = b2wReviews1.query(\"polarity == 'positive'\").sample(33772)\n",
    "negative = b2wReviews1.query(\"polarity == 'negative'\")\n",
    "b2wReviews1 = pd.concat([positive, negative])\n",
    "b2wReviews1.polarity.value_counts()"
   ]
  },
  {
   "cell_type": "markdown",
   "id": "d5f1320a",
   "metadata": {},
   "source": [
    "### Pré processamento das avaliações"
   ]
  },
  {
   "cell_type": "markdown",
   "id": "46090615",
   "metadata": {},
   "source": [
    "O pré-processamento de texto é uma etapa crítica na classificação de texto e em tarefas de processamento de linguagem natural (NLP) em geral. Existem várias razões pelas quais o pré-processamento de texto é importante:\n",
    "\n",
    "* Normalização de Dados: O pré-processamento ajuda a normalizar os dados textuais, o que significa que ele coloca os textos em um formato consistente e padronizado. Isso é importante porque diferentes textos podem conter formatação, capitalização e estruturas diferentes, o que pode dificultar a comparação e análise.\n",
    "\n",
    "* Redução de Ruído: Textos muitas vezes contêm informações irrelevantes, como espaços em branco extras, pontuação, caracteres especiais e tags HTML. O pré-processamento ajuda a eliminar esses elementos indesejados, o que melhora a qualidade dos dados e evita que o modelo se distraia com informações desnecessárias.\n",
    "\n",
    "* Remoção de Stopwords: Stopwords são palavras comuns, como \"e\", \"em\", \"o\", \"a\", \"de\", \"que\", que não contribuem significativamente para o significado do texto. A remoção de stopwords reduz a dimensionalidade dos dados e ajuda o modelo a se concentrar em palavras mais informativas.\n",
    "\n",
    "* Stemming ou Lematização: Stemming e lematização são técnicas para reduzir as palavras à sua forma raiz. Isso ajuda a agrupar palavras semelhantes e a lidar com variações morfológicas. Por exemplo, \"correr\" e \"correndo\" podem ser reduzidos a \"corr\" pela técnica de stemming.\n",
    "\n",
    "* Eliminação de Variações de Palavras: O pré-processamento também ajuda a lidar com variações de palavras, como singular/plural, tempos verbais e conjugações. Isso garante que o modelo possa reconhecer palavras relacionadas como equivalentes.\n",
    "\n",
    "* Melhoria da Eficiência Computacional: Ao reduzir a quantidade de dados e melhorar a qualidade, o pré-processamento torna a análise de texto mais eficiente em termos de recursos computacionais."
   ]
  },
  {
   "cell_type": "code",
   "execution_count": 13,
   "id": "ceacb230",
   "metadata": {},
   "outputs": [],
   "source": [
    "import re\n",
    "from nltk.corpus import stopwords\n",
    "from nltk.stem import SnowballStemmer\n",
    "\n",
    "def preprocess_text(text):\n",
    "    # Remoção de caracteres especiais e números\n",
    "    text = re.sub(r'[^a-zA-Z]', ' ', text)\n",
    "    # Remoção de stopwords\n",
    "    words = text.lower().split()\n",
    "    words = [word for word in words if word not in stopwords.words('portuguese')]\n",
    "    # Stemming\n",
    "    stemmer = SnowballStemmer('portuguese')\n",
    "    words = [stemmer.stem(word) for word in words]\n",
    "    return ' '.join(words)\n",
    "\n",
    "b2wReviews1['processed_text'] = b2wReviews1['review_text'].apply(preprocess_text)"
   ]
  },
  {
   "cell_type": "markdown",
   "id": "4f39a048",
   "metadata": {},
   "source": [
    "### Vetorização"
   ]
  },
  {
   "cell_type": "markdown",
   "id": "0ee61cac",
   "metadata": {},
   "source": [
    "A vetorização de textos é um processo fundamental na análise de sentimentos, que envolve a transformação de texto em dados numéricos que podem ser processados por algoritmos de aprendizado de máquina. Isso permite que os modelos de análise de sentimentos compreendam e classifiquem o conteúdo de texto com base em emoções, opiniões e polaridade, como positivo, negativo ou neutro.<br><br>\n",
    "Para esse trabalho, vamos utilizar a técnica TF-IDF, que atribui um valor a cada palavra com base em sua frequência no documento e na frequência inversa em todo o corpus de documentos. Isso ajuda a destacar palavras importantes e reduzir o peso de palavras comuns.<br><br>\n",
    "Primeiro, vamos separar o conjunto de dados em um conjunto de treino e um conjunto de validaçãom seguindo a proporção 80/20, com 80% sendo utilizado para treino e 20% para validação:"
   ]
  },
  {
   "cell_type": "code",
   "execution_count": 15,
   "id": "49c5d500",
   "metadata": {},
   "outputs": [],
   "source": [
    "from sklearn.model_selection import train_test_split\n",
    "X_train, X_val, y_train, y_val = train_test_split(b2wReviews1['processed_text'], b2wReviews1['polarity'], test_size=0.2, random_state=42)"
   ]
  },
  {
   "cell_type": "markdown",
   "id": "7a199848",
   "metadata": {},
   "source": [
    "Em seguida, vamos utilizar o TF-IDF para vetorizar o textos pré processados de treino e validação:"
   ]
  },
  {
   "cell_type": "code",
   "execution_count": 16,
   "id": "15abad9f",
   "metadata": {},
   "outputs": [],
   "source": [
    "from sklearn.feature_extraction.text import TfidfVectorizer\n",
    "vectorizer = TfidfVectorizer()\n",
    "X_train_vect = vectorizer.fit_transform(X_train)\n",
    "X_val_vect = vectorizer.transform(X_val)"
   ]
  },
  {
   "cell_type": "markdown",
   "id": "9f7156af",
   "metadata": {},
   "source": [
    "### Treinando e avaliando modelos"
   ]
  },
  {
   "cell_type": "code",
   "execution_count": 29,
   "id": "1b8109ae",
   "metadata": {},
   "outputs": [
    {
     "name": "stdout",
     "output_type": "stream",
     "text": [
      "Acurácia MultinomialNB: 0.9148715671034126\n",
      "Acurácia LogisticRegression: 0.9305648086460878\n",
      "Acurácia DecisionTreeClassifier: 0.8686801391664816\n"
     ]
    }
   ],
   "source": [
    "from sklearn.linear_model import LogisticRegression\n",
    "from sklearn.tree import DecisionTreeClassifier\n",
    "from sklearn.neighbors import KNeighborsClassifier\n",
    "from sklearn.ensemble import BaggingClassifier,  RandomForestClassifier, ExtraTreesClassifier, AdaBoostClassifier\n",
    "from sklearn.naive_bayes import MultinomialNB\n",
    "from sklearn.model_selection import KFold, cross_validate\n",
    "from sklearn.metrics import accuracy_score, f1_score, confusion_matrix , classification_report\n",
    "\n",
    "models = []\n",
    "models.append(('MultinomialNB', MultinomialNB()))\n",
    "models.append(('LogisticRegression', LogisticRegression(random_state=1, tol=1e-5,max_iter = 100000)))\n",
    "models.append(('DecisionTreeClassifier', DecisionTreeClassifier()))\n",
    "#models.append(('KNeighborsClassifier', KNeighborsClassifier()))\n",
    "#models.append(('SVC', SVC()))\n",
    "#models.append(('BaggingClassifier', BaggingClassifier()))\n",
    "#models.append(('RandomForestClassifier',RandomForestClassifier()))\n",
    "#models.append(('ExtraTreesClassifier', ExtraTreesClassifier(n_estimators=100)))\n",
    "#models.append(('GradientBoostingClassifier', GradientBoostingClassifier(n_estimators=100)))\n",
    "#models.append(('AdaBoostClassifier', AdaBoostClassifier(n_estimators=100)))\n",
    "\n",
    "metricas = ['accuracy', 'f1_micro', 'f1_macro', 'precision' , 'recall', 'roc_auc']\n",
    "kfold = KFold(n_splits=10, shuffle=True)\n",
    "\n",
    "resultados = []\n",
    "modelos = []\n",
    "\n",
    "for name, model in models:\n",
    "    modelos.append(name)\n",
    "    \n",
    "    outcome = y_train\n",
    "    predictor = X_train_vect\n",
    "    \n",
    "    model.fit(X_train_vect, y_train)\n",
    "    \n",
    "    y_pred = model.predict(X_val_vect)\n",
    "\n",
    "    # Calcule métricas de avaliação\n",
    "    accuracy = accuracy_score(y_val, y_pred)\n",
    "    #precision = precision_score(y_val, y_pred, average='weighted')\n",
    "    #recall = recall_score(y_val, y_pred, average='weighted')\n",
    "\n",
    "    print(f'Acurácia {name}: {accuracy}')\n",
    "    #print(f'Precisão: {precision}')\n",
    "    #print(f'Recall: {recall}')\n",
    "    \n",
    "    # Validação cruzada\n",
    "    #cv_result = cross_validate(model, predictor, outcome, cv=kfold, scoring=metricas, verbose=False)\n",
    "    #print(cv_result)\n",
    "    #result = []\n",
    "    #for metrica in metricas:\n",
    "    #    key = \"test_\"+metrica;\n",
    "    #    result.append(cv_result[key].mean())\n",
    "    #resultados.append(result)\n",
    "    \n",
    "#tabela_resultado = pd.DataFrame(data=resultados, columns=metricas, index=modelos)\n",
    "#tabela_resultado"
   ]
  },
  {
   "cell_type": "code",
   "execution_count": null,
   "id": "1725a931",
   "metadata": {},
   "outputs": [],
   "source": []
  },
  {
   "cell_type": "code",
   "execution_count": 74,
   "id": "53f1baa4",
   "metadata": {},
   "outputs": [
    {
     "name": "stdout",
     "output_type": "stream",
     "text": [
      "Acurácia: 0.9156858390702495\n",
      "Precisão: 0.9163553183045631\n",
      "Recall: 0.9156858390702495\n"
     ]
    }
   ],
   "source": [
    "\n",
    "# Passo 3: Treinando Modelos de Classificação\n",
    "# Vou mostrar um exemplo usando o Naive Bayes, mas você pode experimentar com outros algoritmos.\n",
    "classifier = MultinomialNB()\n",
    "classifier.fit(X_train_vect, y_train)\n",
    "\n",
    "# Passo 4: Avaliação do Modelo\n",
    "# Faça previsões no conjunto de validação\n",
    "y_pred = classifier.predict(X_val_vect)\n",
    "\n",
    "# Calcule métricas de avaliação\n",
    "accuracy = accuracy_score(y_val, y_pred)\n",
    "precision = precision_score(y_val, y_pred, average='weighted')\n",
    "recall = recall_score(y_val, y_pred, average='weighted')\n",
    "\n",
    "print(f'Acurácia: {accuracy}')\n",
    "print(f'Precisão: {precision}')\n",
    "print(f'Recall: {recall}')"
   ]
  },
  {
   "cell_type": "markdown",
   "id": "0845f7d5",
   "metadata": {},
   "source": [
    "#### "
   ]
  },
  {
   "cell_type": "code",
   "execution_count": null,
   "id": "6ff1458f",
   "metadata": {},
   "outputs": [],
   "source": []
  },
  {
   "cell_type": "code",
   "execution_count": null,
   "id": "77cbe4c0",
   "metadata": {},
   "outputs": [],
   "source": []
  },
  {
   "cell_type": "code",
   "execution_count": null,
   "id": "82f6b362",
   "metadata": {},
   "outputs": [],
   "source": []
  },
  {
   "cell_type": "code",
   "execution_count": null,
   "id": "bccddddb",
   "metadata": {},
   "outputs": [],
   "source": []
  },
  {
   "cell_type": "code",
   "execution_count": null,
   "id": "5b9845f8",
   "metadata": {},
   "outputs": [],
   "source": []
  },
  {
   "cell_type": "code",
   "execution_count": null,
   "id": "90f7fe12",
   "metadata": {},
   "outputs": [],
   "source": []
  }
 ],
 "metadata": {
  "kernelspec": {
   "display_name": "Python 3 (ipykernel)",
   "language": "python",
   "name": "python3"
  },
  "language_info": {
   "codemirror_mode": {
    "name": "ipython",
    "version": 3
   },
   "file_extension": ".py",
   "mimetype": "text/x-python",
   "name": "python",
   "nbconvert_exporter": "python",
   "pygments_lexer": "ipython3",
   "version": "3.9.12"
  }
 },
 "nbformat": 4,
 "nbformat_minor": 5
}
