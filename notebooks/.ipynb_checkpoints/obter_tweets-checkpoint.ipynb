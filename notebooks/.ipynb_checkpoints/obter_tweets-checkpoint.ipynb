{
 "cells": [
  {
   "cell_type": "code",
   "execution_count": 6,
   "id": "0c5648cb",
   "metadata": {},
   "outputs": [],
   "source": [
    "import os\n",
    "from flask import Flask, render_template, request, send_file\n",
    "from sklearn.feature_extraction.text import TfidfVectorizer\n",
    "import pandas as pd\n",
    "from io import BytesIO\n",
    "import nltk\n",
    "import re\n",
    "from nltk.corpus import stopwords\n",
    "from sklearn.feature_extraction.text import TfidfVectorizer, CountVectorizer"
   ]
  },
  {
   "cell_type": "code",
   "execution_count": 8,
   "id": "a49c1122",
   "metadata": {},
   "outputs": [
    {
     "name": "stdout",
     "output_type": "stream",
     "text": [
      " * Serving Flask app \"__main__\" (lazy loading)\n",
      " * Environment: production\n",
      "\u001b[31m   WARNING: This is a development server. Do not use it in a production deployment.\u001b[0m\n",
      "\u001b[2m   Use a production WSGI server instead.\u001b[0m\n",
      " * Debug mode: off\n"
     ]
    },
    {
     "name": "stderr",
     "output_type": "stream",
     "text": [
      " * Running on http://127.0.0.1:5000/ (Press CTRL+C to quit)\n",
      "127.0.0.1 - - [12/Oct/2023 18:23:01] \"GET / HTTP/1.1\" 200 -\n",
      "127.0.0.1 - - [12/Oct/2023 18:23:10] \"POST / HTTP/1.1\" 200 -\n"
     ]
    }
   ],
   "source": [
    "app = Flask(__name__)\n",
    "UPLOAD_FOLDER = 'uploads'\n",
    "app.config['UPLOAD_FOLDER'] = UPLOAD_FOLDER\n",
    "\n",
    "stop_words = set(stopwords.words('portuguese'))\n",
    "\n",
    "# Página inicial onde o usuário faz o upload do arquivo CSV\n",
    "@app.route('/', methods=['GET', 'POST'])\n",
    "def upload_file():\n",
    "    if request.method == 'POST':\n",
    "        file = request.files['file']\n",
    "        tweets = file.readlines()\n",
    "        tfidf = TfidfVectorizer(stop_words=stop_words, max_features=200)\n",
    "        result_tfidf = tfidf.fit_transform(tweets)\n",
    "        df_tfidf = pd.DataFrame(result_tfidf.toarray().transpose(), index=tfidf.get_feature_names_out())\n",
    "        df_tfidf = df_tfidf.T\n",
    "        df_tfidf.to_csv('./vetorizacao.csv', index=False)\n",
    "        return render_template('upload.html')\n",
    "\n",
    "    return render_template('upload.html')\n",
    "\n",
    "@app.route('/classify/<filename>', methods=['GET', 'POST'])\n",
    "def classify_text(filename):\n",
    "    if filename:\n",
    "        with open('./tweets.csv', encoding=\"utf8\") as file:\n",
    "            tweets = file.readlines()\n",
    "        dataframe = pd.DataFrame(data={ 'tweet': tweets })\n",
    "        dataframe['tweet'] = dataframe['tweet'].apply(lambda x: x.replace(\"\\n\", \"\"))\n",
    "        dataframe['indice'] = dataframe.index\n",
    "        dataframe['rotulo'] = ''\n",
    "            \n",
    "        vetorizacao = pd.read_csv('./vetorizacao.csv.csv')\n",
    "        vectorizer = TfidfVectorizer()\n",
    "        tfidf_matrix = vectorizer.fit_transform(df['texto'])\n",
    "        num_clusters = 3  # Número de clusters (ajuste conforme necessário)\n",
    "        kmeans = KMeans(n_clusters=num_clusters, random_state=0)\n",
    "        kmeans.fit(tfidf_matrix)\n",
    "        df['cluster'] = kmeans.labels\n",
    "\n",
    "        if request.method == 'POST':\n",
    "            group_number = int(request.form['group_number'])\n",
    "            sentiment = request.form['sentiment']\n",
    "\n",
    "            # Atualize o DataFrame com o sentimento atribuído\n",
    "            df.loc[df['cluster'] == group_number, 'sentiment'] = sentiment\n",
    "\n",
    "            # Salve o DataFrame atualizado\n",
    "            df.to_csv(file_path, index=False)\n",
    "\n",
    "            # Redirecione de volta para a página de classificação\n",
    "            return redirect(url_for('classify_text', filename=filename))\n",
    "\n",
    "        # Encontre os grupos únicos\n",
    "        unique_clusters = df['cluster'].unique()\n",
    "\n",
    "        # Encontre a próxima amostra não classificada para cada grupo\n",
    "        next_samples = []\n",
    "        for cluster in unique_clusters:\n",
    "            unclassified_samples = df[(df['cluster'] == cluster) & (df['sentiment'].isna())]\n",
    "            if not unclassified_samples.empty:\n",
    "                next_samples.append(unclassified_samples.iloc[0])\n",
    "\n",
    "        if not next_samples:\n",
    "            return \"Classificação concluída para todos os grupos.\"\n",
    "\n",
    "        # Exiba as amostras para classificação\n",
    "        return render_template('classify.html', data=next_samples)\n",
    "\n",
    "    return \"Arquivo não encontrado.\""
   ]
  },
  {
   "cell_type": "code",
   "execution_count": null,
   "id": "01a09733",
   "metadata": {},
   "outputs": [
    {
     "name": "stdout",
     "output_type": "stream",
     "text": [
      " * Serving Flask app \"__main__\" (lazy loading)\n",
      " * Environment: production\n",
      "\u001b[31m   WARNING: This is a development server. Do not use it in a production deployment.\u001b[0m\n",
      "\u001b[2m   Use a production WSGI server instead.\u001b[0m\n",
      " * Debug mode: off\n"
     ]
    },
    {
     "name": "stderr",
     "output_type": "stream",
     "text": [
      " * Running on http://127.0.0.1:5000/ (Press CTRL+C to quit)\n"
     ]
    }
   ],
   "source": [
    "if __name__ == \"__main__\":\n",
    "    app.run()"
   ]
  },
  {
   "cell_type": "code",
   "execution_count": null,
   "id": "c30a7c88",
   "metadata": {},
   "outputs": [],
   "source": []
  }
 ],
 "metadata": {
  "kernelspec": {
   "display_name": "Python 3 (ipykernel)",
   "language": "python",
   "name": "python3"
  },
  "language_info": {
   "codemirror_mode": {
    "name": "ipython",
    "version": 3
   },
   "file_extension": ".py",
   "mimetype": "text/x-python",
   "name": "python",
   "nbconvert_exporter": "python",
   "pygments_lexer": "ipython3",
   "version": "3.9.12"
  }
 },
 "nbformat": 4,
 "nbformat_minor": 5
}
