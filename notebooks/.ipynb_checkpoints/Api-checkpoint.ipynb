{
 "cells": [
  {
   "cell_type": "code",
   "execution_count": 4,
   "id": "4d2cae55",
   "metadata": {},
   "outputs": [],
   "source": [
    "import pickle\n",
    "model = pickle.load(open(\"./models/LogisticRegression\", 'rb'))\n",
    "vectorizer = pickle.load(open(\"./models/vectorizer\", 'rb'))"
   ]
  },
  {
   "cell_type": "code",
   "execution_count": 7,
   "id": "2abdf54e",
   "metadata": {},
   "outputs": [
    {
     "data": {
      "text/plain": [
       "array(['positive'], dtype=object)"
      ]
     },
     "execution_count": 7,
     "metadata": {},
     "output_type": "execute_result"
    }
   ],
   "source": [
    "frase_nova = \"Péssimo muito bom\"\n",
    "frase_nova_vectorizer = vectorizer.transform([frase_nova])\n",
    "model.predict(frase_nova_vectorizer)"
   ]
  },
  {
   "cell_type": "code",
   "execution_count": 12,
   "id": "35b20a22",
   "metadata": {},
   "outputs": [
    {
     "name": "stdout",
     "output_type": "stream",
     "text": [
      " * Serving Flask app \"__main__\" (lazy loading)\n",
      " * Environment: production\n",
      "\u001b[31m   WARNING: This is a development server. Do not use it in a production deployment.\u001b[0m\n",
      "\u001b[2m   Use a production WSGI server instead.\u001b[0m\n",
      " * Debug mode: off\n"
     ]
    },
    {
     "name": "stderr",
     "output_type": "stream",
     "text": [
      " * Running on http://127.0.0.1:5000/ (Press CTRL+C to quit)\n",
      "127.0.0.1 - - [29/Oct/2023 21:08:34] \"POST /classifications HTTP/1.1\" 405 -\n"
     ]
    }
   ],
   "source": [
    "from flask import Flask, request, send_file, jsonify\n",
    "\n",
    "app = Flask(__name__)\n",
    "\n",
    "@app.route('/classifications', methods=['POST'])\n",
    "def upload_file():\n",
    "    texto = request.form.get('text')\n",
    "\n",
    "    if not texto:\n",
    "        return jsonify({'erro': 'O campo \"texto\" é obrigatório'}), 400\n",
    "\n",
    "    linhas = texto.split('\\n')\n",
    "    \n",
    "    frase_nova_vectorizer = vectorizer.transform([frase_nova])\n",
    "    predictions = model.predict(frase_nova_vectorizer)\n",
    "    \n",
    "    resultado = {}\n",
    "    for i, linha in enumerate(linhas, start=1):\n",
    "        resultado[f'Linha {i}'] = predictions[i]\n",
    "    return jsonify(resultado)\n",
    "\n",
    "if __name__ == \"__main__\":\n",
    "    app.run()"
   ]
  },
  {
   "cell_type": "code",
   "execution_count": null,
   "id": "eb71dd27",
   "metadata": {},
   "outputs": [],
   "source": []
  }
 ],
 "metadata": {
  "kernelspec": {
   "display_name": "Python 3 (ipykernel)",
   "language": "python",
   "name": "python3"
  },
  "language_info": {
   "codemirror_mode": {
    "name": "ipython",
    "version": 3
   },
   "file_extension": ".py",
   "mimetype": "text/x-python",
   "name": "python",
   "nbconvert_exporter": "python",
   "pygments_lexer": "ipython3",
   "version": "3.9.12"
  }
 },
 "nbformat": 4,
 "nbformat_minor": 5
}
